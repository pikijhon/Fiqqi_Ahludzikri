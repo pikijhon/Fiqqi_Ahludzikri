{
  "nbformat": 4,
  "nbformat_minor": 0,
  "metadata": {
    "colab": {
      "provenance": [],
      "authorship_tag": "ABX9TyPsCGs3Rs8cI0enYdtLBxav",
      "include_colab_link": true
    },
    "kernelspec": {
      "name": "python3",
      "display_name": "Python 3"
    },
    "language_info": {
      "name": "python"
    }
  },
  "cells": [
    {
      "cell_type": "markdown",
      "metadata": {
        "id": "view-in-github",
        "colab_type": "text"
      },
      "source": [
        "<a href=\"https://colab.research.google.com/github/pikijhon/Fiqqi_Ahludzikri/blob/main/Analysis_Big_Data/UTS/UTS_SCRAPING_PILPRES.ipynb\" target=\"_parent\"><img src=\"https://colab.research.google.com/assets/colab-badge.svg\" alt=\"Open In Colab\"/></a>"
      ]
    },
    {
      "cell_type": "code",
      "execution_count": null,
      "metadata": {
        "id": "6BcKFaqOi2vz"
      },
      "outputs": [],
      "source": [
        "import urllib.request\n",
        "import pandas as pd\n",
        "\n",
        "url = \"https://id.wikipedia.org/wiki/Pemilihan_umum_Presiden_Indonesia_2024\"\n"
      ]
    },
    {
      "cell_type": "code",
      "source": [
        "with urllib.request.urlopen(url) as i:\n",
        "  html = i.read()"
      ],
      "metadata": {
        "id": "BqrRFgjJjkDC"
      },
      "execution_count": null,
      "outputs": []
    },
    {
      "cell_type": "code",
      "source": [
        "data_1 = pd.read_html(html)[7]\n",
        "print(data_1.head())"
      ],
      "metadata": {
        "colab": {
          "base_uri": "https://localhost:8080/"
        },
        "id": "DHSR8udikIZZ",
        "outputId": "2600e996-be64-4091-df50-a16bcc5e17b1"
      },
      "execution_count": null,
      "outputs": [
        {
          "output_type": "stream",
          "name": "stdout",
          "text": [
            "  Nomor urut Partai                                         \\\n",
            "  Nomor urut Partai                               Partai.1   \n",
            "0          1    NaN              Partai Kebangkitan Bangsa   \n",
            "1          2    NaN          Partai Gerakan Indonesia Raya   \n",
            "2          3    NaN  Partai Demokrasi Indonesia Perjuangan   \n",
            "3          4    NaN                  Partai Golongan Karya   \n",
            "4          5    NaN               Partai Nasional Demokrat   \n",
            "\n",
            "  Perolehan suara (2019)                          Perolehan kursi (2019)  \\\n",
            "  Perolehan suara (2019) Perolehan suara (2019).1                 DPR RI   \n",
            "0             13.570.097                    9,69%               58 / 575   \n",
            "1             17.594.839                   12,57%               78 / 575   \n",
            "2             27.053.961                   19,33%              128 / 575   \n",
            "3             17.229.789                   12,31%               85 / 575   \n",
            "4             12.661.792                    9,05%               59 / 575   \n",
            "\n",
            "                                                              Calon presiden  \\\n",
            "  DPR RI.1       DPRD I DPRD I.1         DPRD II DPRD II.1    Calon presiden   \n",
            "0   10,09%  180 / 2.232    8,06%  1.553 / 17.340     8,95%    Anies Baswedan   \n",
            "1   13,57%  288 / 2.232   12,90%  1.970 / 17.340    11,36%  Prabowo Subianto   \n",
            "2   22,26%  418 / 2.232   18,72%  1.970 / 17.340    16,16%    Ganjar Pranowo   \n",
            "3   14,78%  309 / 2.232   13,84%  2.412 / 17.340    13,91%  Prabowo Subianto   \n",
            "4   10,26%  186 / 2.232    8,33%  1.628 / 17.340     9,38%    Anies Baswedan   \n",
            "\n",
            "              Deklarasi         Koalisi  \n",
            "              Deklarasi         Koalisi  \n",
            "0  2 September 2023[24]       Perubahan  \n",
            "1   12 Agustus 2022[25]  Indonesia Maju  \n",
            "2     21 April 2023[26]      Kerja Sama  \n",
            "3   13 Agustus 2023[27]  Indonesia Maju  \n",
            "4    3 Oktober 2022[28]       Perubahan  \n"
          ]
        }
      ]
    },
    {
      "cell_type": "code",
      "source": [
        "#simpan file\n",
        "data_1.to_csv(\"data_pemilihan_umum_2024.csv\")"
      ],
      "metadata": {
        "id": "pQHP61vGmQaV"
      },
      "execution_count": null,
      "outputs": []
    }
  ]
}