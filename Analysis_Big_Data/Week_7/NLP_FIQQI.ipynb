{
  "nbformat": 4,
  "nbformat_minor": 0,
  "metadata": {
    "colab": {
      "provenance": [],
      "authorship_tag": "ABX9TyP0DA+oNfbvGXAQWlMg+beb",
      "include_colab_link": true
    },
    "kernelspec": {
      "name": "python3",
      "display_name": "Python 3"
    },
    "language_info": {
      "name": "python"
    }
  },
  "cells": [
    {
      "cell_type": "markdown",
      "metadata": {
        "id": "view-in-github",
        "colab_type": "text"
      },
      "source": [
        "<a href=\"https://colab.research.google.com/github/pikijhon/Fiqqi_Ahludzikri/blob/main/Analysis_Big_Data/Week_7/NLP_FIQQI.ipynb\" target=\"_parent\"><img src=\"https://colab.research.google.com/assets/colab-badge.svg\" alt=\"Open In Colab\"/></a>"
      ]
    },
    {
      "cell_type": "markdown",
      "source": [
        "Importing the libraries"
      ],
      "metadata": {
        "id": "mlVFqm5JRSfO"
      }
    },
    {
      "cell_type": "code",
      "execution_count": 1,
      "metadata": {
        "id": "WoZt_m4AOfLe"
      },
      "outputs": [],
      "source": [
        "import numpy as np\n",
        "import pandas as pd"
      ]
    },
    {
      "cell_type": "markdown",
      "source": [
        "Importing the dataset"
      ],
      "metadata": {
        "id": "RA697bymRWkd"
      }
    },
    {
      "cell_type": "code",
      "source": [
        "df = pd.read_csv('sample_data/1_Restaurant_Reviews.tsv', sep='\\t', quoting=3)"
      ],
      "metadata": {
        "id": "CygfR_cVQtXB"
      },
      "execution_count": 6,
      "outputs": []
    },
    {
      "cell_type": "markdown",
      "source": [
        "Splitting the dataset"
      ],
      "metadata": {
        "id": "X660U3dZRazW"
      }
    },
    {
      "cell_type": "code",
      "source": [
        "from sklearn.model_selection import train_test_split\n",
        "X = df['Review']\n",
        "y = df['Liked']\n",
        "X_train, X_test, y_train, y_test = train_test_split(X, y)"
      ],
      "metadata": {
        "id": "HqTfsHxTRLY9"
      },
      "execution_count": 7,
      "outputs": []
    },
    {
      "cell_type": "markdown",
      "source": [
        "Cleaning the text"
      ],
      "metadata": {
        "id": "44CQhQtXRgdJ"
      }
    },
    {
      "cell_type": "code",
      "source": [
        "import re\n",
        "import nltk\n",
        "nltk.download('stopwords')\n",
        "from nltk.corpus import stopwords\n",
        "from nltk.stem.porter import PorterStemmer\n",
        "\n",
        "def text_process(document):\n",
        "    document = re.sub('[^a-zA-Z]', ' ', document)\n",
        "    document = document.lower()\n",
        "    document = document.split()\n",
        "    all_stopwords = stopwords.words('english')\n",
        "    all_stopwords.remove('not')\n",
        "    document = [word for word in document if not word in set(all_stopwords)]\n",
        "    ps = PorterStemmer()\n",
        "    document = [ps.stem(word) for word in document]\n",
        "    return document"
      ],
      "metadata": {
        "colab": {
          "base_uri": "https://localhost:8080/"
        },
        "id": "FRGAglElRdJ9",
        "outputId": "8ac6a202-43e8-4b1d-94a0-660f823d1ac8"
      },
      "execution_count": 8,
      "outputs": [
        {
          "output_type": "stream",
          "name": "stderr",
          "text": [
            "[nltk_data] Downloading package stopwords to /root/nltk_data...\n",
            "[nltk_data]   Unzipping corpora/stopwords.zip.\n"
          ]
        }
      ]
    },
    {
      "cell_type": "markdown",
      "source": [
        "Hyperparameter tunning"
      ],
      "metadata": {
        "id": "xkf6X8hCRl5h"
      }
    },
    {
      "cell_type": "code",
      "source": [
        "rf_param_grid = {\n",
        "    'bag_of_words__ngram_range': [(1, 1)],\n",
        "    'bag_of_words__max_df': [0.85, 1.0],\n",
        "    'bag_of_words__min_df': [0.01, 0.05],\n",
        "    'estimator__criterion': ['gini'],\n",
        "    'estimator__n_estimators': [100, 300]\n",
        "}\n",
        "\n",
        "nb_param_grid = {\n",
        "    'bag_of_words__ngram_range': [(1, 1), (1, 2)],\n",
        "    'bag_of_words__max_df': [0.85, 1.0],\n",
        "    'bag_of_words__min_df': [0.01, 0.05],\n",
        "    'estimator__alpha': [0.01, 1.0]\n",
        "}"
      ],
      "metadata": {
        "id": "xEhdedvYRn70"
      },
      "execution_count": 9,
      "outputs": []
    },
    {
      "cell_type": "markdown",
      "source": [
        "Creating the pipeline"
      ],
      "metadata": {
        "id": "yESNf2imRqEZ"
      }
    },
    {
      "cell_type": "code",
      "source": [
        "from sklearn.pipeline import Pipeline\n",
        "from sklearn.feature_extraction.text import CountVectorizer\n",
        "from sklearn.feature_extraction.text import TfidfTransformer\n",
        "from sklearn.ensemble import RandomForestClassifier\n",
        "from sklearn.naive_bayes import MultinomialNB\n",
        "\n",
        "rf_pipe = Pipeline([\n",
        "    ('bag_of_words', CountVectorizer(analyzer=text_process)),\n",
        "    ('tf_idf', TfidfTransformer()),\n",
        "    ('estimator', RandomForestClassifier())\n",
        "])\n",
        "\n",
        "nb_pipe = Pipeline([\n",
        "    ('bag_of_words', CountVectorizer(analyzer=text_process)),\n",
        "    ('tf_idf', TfidfTransformer()),\n",
        "    ('estimator', MultinomialNB())\n",
        "])"
      ],
      "metadata": {
        "id": "O-eqw4tYRsmQ"
      },
      "execution_count": 10,
      "outputs": []
    },
    {
      "cell_type": "markdown",
      "source": [
        "Fitting"
      ],
      "metadata": {
        "id": "iKysJnsyRvIy"
      }
    },
    {
      "cell_type": "code",
      "source": [
        "from sklearn.model_selection import GridSearchCV\n",
        "\n",
        "rf_grid = GridSearchCV(rf_pipe, rf_param_grid, verbose=2, cv=2)\n",
        "rf_grid.fit(X_train, y_train)\n",
        "\n",
        "nb_grid = GridSearchCV(nb_pipe, nb_param_grid, verbose=2, cv=2)\n",
        "nb_grid.fit(X_train, y_train)"
      ],
      "metadata": {
        "colab": {
          "base_uri": "https://localhost:8080/",
          "height": 1000
        },
        "id": "jBJFUWGzRvlF",
        "outputId": "8c3063bc-05d6-40ea-d15f-b2244e283962"
      },
      "execution_count": 11,
      "outputs": [
        {
          "output_type": "stream",
          "name": "stdout",
          "text": [
            "Fitting 2 folds for each of 8 candidates, totalling 16 fits\n",
            "[CV] END bag_of_words__max_df=0.85, bag_of_words__min_df=0.01, bag_of_words__ngram_range=(1, 1), estimator__criterion=gini, estimator__n_estimators=100; total time=   1.3s\n",
            "[CV] END bag_of_words__max_df=0.85, bag_of_words__min_df=0.01, bag_of_words__ngram_range=(1, 1), estimator__criterion=gini, estimator__n_estimators=100; total time=   0.7s\n",
            "[CV] END bag_of_words__max_df=0.85, bag_of_words__min_df=0.01, bag_of_words__ngram_range=(1, 1), estimator__criterion=gini, estimator__n_estimators=300; total time=   0.9s\n",
            "[CV] END bag_of_words__max_df=0.85, bag_of_words__min_df=0.01, bag_of_words__ngram_range=(1, 1), estimator__criterion=gini, estimator__n_estimators=300; total time=   0.6s\n",
            "[CV] END bag_of_words__max_df=0.85, bag_of_words__min_df=0.05, bag_of_words__ngram_range=(1, 1), estimator__criterion=gini, estimator__n_estimators=100; total time=   0.3s\n",
            "[CV] END bag_of_words__max_df=0.85, bag_of_words__min_df=0.05, bag_of_words__ngram_range=(1, 1), estimator__criterion=gini, estimator__n_estimators=100; total time=   0.3s\n",
            "[CV] END bag_of_words__max_df=0.85, bag_of_words__min_df=0.05, bag_of_words__ngram_range=(1, 1), estimator__criterion=gini, estimator__n_estimators=300; total time=   0.5s\n",
            "[CV] END bag_of_words__max_df=0.85, bag_of_words__min_df=0.05, bag_of_words__ngram_range=(1, 1), estimator__criterion=gini, estimator__n_estimators=300; total time=   0.5s\n",
            "[CV] END bag_of_words__max_df=1.0, bag_of_words__min_df=0.01, bag_of_words__ngram_range=(1, 1), estimator__criterion=gini, estimator__n_estimators=100; total time=   0.3s\n",
            "[CV] END bag_of_words__max_df=1.0, bag_of_words__min_df=0.01, bag_of_words__ngram_range=(1, 1), estimator__criterion=gini, estimator__n_estimators=100; total time=   0.3s\n",
            "[CV] END bag_of_words__max_df=1.0, bag_of_words__min_df=0.01, bag_of_words__ngram_range=(1, 1), estimator__criterion=gini, estimator__n_estimators=300; total time=   0.5s\n",
            "[CV] END bag_of_words__max_df=1.0, bag_of_words__min_df=0.01, bag_of_words__ngram_range=(1, 1), estimator__criterion=gini, estimator__n_estimators=300; total time=   0.6s\n",
            "[CV] END bag_of_words__max_df=1.0, bag_of_words__min_df=0.05, bag_of_words__ngram_range=(1, 1), estimator__criterion=gini, estimator__n_estimators=100; total time=   0.3s\n",
            "[CV] END bag_of_words__max_df=1.0, bag_of_words__min_df=0.05, bag_of_words__ngram_range=(1, 1), estimator__criterion=gini, estimator__n_estimators=100; total time=   0.3s\n",
            "[CV] END bag_of_words__max_df=1.0, bag_of_words__min_df=0.05, bag_of_words__ngram_range=(1, 1), estimator__criterion=gini, estimator__n_estimators=300; total time=   0.5s\n",
            "[CV] END bag_of_words__max_df=1.0, bag_of_words__min_df=0.05, bag_of_words__ngram_range=(1, 1), estimator__criterion=gini, estimator__n_estimators=300; total time=   0.5s\n",
            "Fitting 2 folds for each of 16 candidates, totalling 32 fits\n",
            "[CV] END bag_of_words__max_df=0.85, bag_of_words__min_df=0.01, bag_of_words__ngram_range=(1, 1), estimator__alpha=0.01; total time=   0.2s\n",
            "[CV] END bag_of_words__max_df=0.85, bag_of_words__min_df=0.01, bag_of_words__ngram_range=(1, 1), estimator__alpha=0.01; total time=   0.2s\n",
            "[CV] END bag_of_words__max_df=0.85, bag_of_words__min_df=0.01, bag_of_words__ngram_range=(1, 1), estimator__alpha=1.0; total time=   0.2s\n",
            "[CV] END bag_of_words__max_df=0.85, bag_of_words__min_df=0.01, bag_of_words__ngram_range=(1, 1), estimator__alpha=1.0; total time=   0.2s\n",
            "[CV] END bag_of_words__max_df=0.85, bag_of_words__min_df=0.01, bag_of_words__ngram_range=(1, 2), estimator__alpha=0.01; total time=   0.2s\n"
          ]
        },
        {
          "output_type": "stream",
          "name": "stderr",
          "text": [
            "/usr/local/lib/python3.10/dist-packages/sklearn/feature_extraction/text.py:544: UserWarning: The parameter 'ngram_range' will not be used since 'analyzer' is callable'\n",
            "  warnings.warn(\n",
            "/usr/local/lib/python3.10/dist-packages/sklearn/feature_extraction/text.py:544: UserWarning: The parameter 'ngram_range' will not be used since 'analyzer' is callable'\n",
            "  warnings.warn(\n"
          ]
        },
        {
          "output_type": "stream",
          "name": "stdout",
          "text": [
            "[CV] END bag_of_words__max_df=0.85, bag_of_words__min_df=0.01, bag_of_words__ngram_range=(1, 2), estimator__alpha=0.01; total time=   0.2s\n",
            "[CV] END bag_of_words__max_df=0.85, bag_of_words__min_df=0.01, bag_of_words__ngram_range=(1, 2), estimator__alpha=1.0; total time=   0.2s\n"
          ]
        },
        {
          "output_type": "stream",
          "name": "stderr",
          "text": [
            "/usr/local/lib/python3.10/dist-packages/sklearn/feature_extraction/text.py:544: UserWarning: The parameter 'ngram_range' will not be used since 'analyzer' is callable'\n",
            "  warnings.warn(\n",
            "/usr/local/lib/python3.10/dist-packages/sklearn/feature_extraction/text.py:544: UserWarning: The parameter 'ngram_range' will not be used since 'analyzer' is callable'\n",
            "  warnings.warn(\n"
          ]
        },
        {
          "output_type": "stream",
          "name": "stdout",
          "text": [
            "[CV] END bag_of_words__max_df=0.85, bag_of_words__min_df=0.01, bag_of_words__ngram_range=(1, 2), estimator__alpha=1.0; total time=   0.2s\n",
            "[CV] END bag_of_words__max_df=0.85, bag_of_words__min_df=0.05, bag_of_words__ngram_range=(1, 1), estimator__alpha=0.01; total time=   0.2s\n",
            "[CV] END bag_of_words__max_df=0.85, bag_of_words__min_df=0.05, bag_of_words__ngram_range=(1, 1), estimator__alpha=0.01; total time=   0.2s\n",
            "[CV] END bag_of_words__max_df=0.85, bag_of_words__min_df=0.05, bag_of_words__ngram_range=(1, 1), estimator__alpha=1.0; total time=   0.2s\n",
            "[CV] END bag_of_words__max_df=0.85, bag_of_words__min_df=0.05, bag_of_words__ngram_range=(1, 1), estimator__alpha=1.0; total time=   0.2s\n",
            "[CV] END bag_of_words__max_df=0.85, bag_of_words__min_df=0.05, bag_of_words__ngram_range=(1, 2), estimator__alpha=0.01; total time=   0.2s\n"
          ]
        },
        {
          "output_type": "stream",
          "name": "stderr",
          "text": [
            "/usr/local/lib/python3.10/dist-packages/sklearn/feature_extraction/text.py:544: UserWarning: The parameter 'ngram_range' will not be used since 'analyzer' is callable'\n",
            "  warnings.warn(\n",
            "/usr/local/lib/python3.10/dist-packages/sklearn/feature_extraction/text.py:544: UserWarning: The parameter 'ngram_range' will not be used since 'analyzer' is callable'\n",
            "  warnings.warn(\n"
          ]
        },
        {
          "output_type": "stream",
          "name": "stdout",
          "text": [
            "[CV] END bag_of_words__max_df=0.85, bag_of_words__min_df=0.05, bag_of_words__ngram_range=(1, 2), estimator__alpha=0.01; total time=   0.2s\n",
            "[CV] END bag_of_words__max_df=0.85, bag_of_words__min_df=0.05, bag_of_words__ngram_range=(1, 2), estimator__alpha=1.0; total time=   0.2s\n"
          ]
        },
        {
          "output_type": "stream",
          "name": "stderr",
          "text": [
            "/usr/local/lib/python3.10/dist-packages/sklearn/feature_extraction/text.py:544: UserWarning: The parameter 'ngram_range' will not be used since 'analyzer' is callable'\n",
            "  warnings.warn(\n",
            "/usr/local/lib/python3.10/dist-packages/sklearn/feature_extraction/text.py:544: UserWarning: The parameter 'ngram_range' will not be used since 'analyzer' is callable'\n",
            "  warnings.warn(\n"
          ]
        },
        {
          "output_type": "stream",
          "name": "stdout",
          "text": [
            "[CV] END bag_of_words__max_df=0.85, bag_of_words__min_df=0.05, bag_of_words__ngram_range=(1, 2), estimator__alpha=1.0; total time=   0.2s\n",
            "[CV] END bag_of_words__max_df=1.0, bag_of_words__min_df=0.01, bag_of_words__ngram_range=(1, 1), estimator__alpha=0.01; total time=   0.2s\n",
            "[CV] END bag_of_words__max_df=1.0, bag_of_words__min_df=0.01, bag_of_words__ngram_range=(1, 1), estimator__alpha=0.01; total time=   0.2s\n",
            "[CV] END bag_of_words__max_df=1.0, bag_of_words__min_df=0.01, bag_of_words__ngram_range=(1, 1), estimator__alpha=1.0; total time=   0.2s\n",
            "[CV] END bag_of_words__max_df=1.0, bag_of_words__min_df=0.01, bag_of_words__ngram_range=(1, 1), estimator__alpha=1.0; total time=   0.2s\n"
          ]
        },
        {
          "output_type": "stream",
          "name": "stderr",
          "text": [
            "/usr/local/lib/python3.10/dist-packages/sklearn/feature_extraction/text.py:544: UserWarning: The parameter 'ngram_range' will not be used since 'analyzer' is callable'\n",
            "  warnings.warn(\n"
          ]
        },
        {
          "output_type": "stream",
          "name": "stdout",
          "text": [
            "[CV] END bag_of_words__max_df=1.0, bag_of_words__min_df=0.01, bag_of_words__ngram_range=(1, 2), estimator__alpha=0.01; total time=   0.2s\n"
          ]
        },
        {
          "output_type": "stream",
          "name": "stderr",
          "text": [
            "/usr/local/lib/python3.10/dist-packages/sklearn/feature_extraction/text.py:544: UserWarning: The parameter 'ngram_range' will not be used since 'analyzer' is callable'\n",
            "  warnings.warn(\n"
          ]
        },
        {
          "output_type": "stream",
          "name": "stdout",
          "text": [
            "[CV] END bag_of_words__max_df=1.0, bag_of_words__min_df=0.01, bag_of_words__ngram_range=(1, 2), estimator__alpha=0.01; total time=   0.2s\n"
          ]
        },
        {
          "output_type": "stream",
          "name": "stderr",
          "text": [
            "/usr/local/lib/python3.10/dist-packages/sklearn/feature_extraction/text.py:544: UserWarning: The parameter 'ngram_range' will not be used since 'analyzer' is callable'\n",
            "  warnings.warn(\n"
          ]
        },
        {
          "output_type": "stream",
          "name": "stdout",
          "text": [
            "[CV] END bag_of_words__max_df=1.0, bag_of_words__min_df=0.01, bag_of_words__ngram_range=(1, 2), estimator__alpha=1.0; total time=   0.2s\n"
          ]
        },
        {
          "output_type": "stream",
          "name": "stderr",
          "text": [
            "/usr/local/lib/python3.10/dist-packages/sklearn/feature_extraction/text.py:544: UserWarning: The parameter 'ngram_range' will not be used since 'analyzer' is callable'\n",
            "  warnings.warn(\n"
          ]
        },
        {
          "output_type": "stream",
          "name": "stdout",
          "text": [
            "[CV] END bag_of_words__max_df=1.0, bag_of_words__min_df=0.01, bag_of_words__ngram_range=(1, 2), estimator__alpha=1.0; total time=   0.2s\n",
            "[CV] END bag_of_words__max_df=1.0, bag_of_words__min_df=0.05, bag_of_words__ngram_range=(1, 1), estimator__alpha=0.01; total time=   0.2s\n",
            "[CV] END bag_of_words__max_df=1.0, bag_of_words__min_df=0.05, bag_of_words__ngram_range=(1, 1), estimator__alpha=0.01; total time=   0.2s\n",
            "[CV] END bag_of_words__max_df=1.0, bag_of_words__min_df=0.05, bag_of_words__ngram_range=(1, 1), estimator__alpha=1.0; total time=   0.2s\n",
            "[CV] END bag_of_words__max_df=1.0, bag_of_words__min_df=0.05, bag_of_words__ngram_range=(1, 1), estimator__alpha=1.0; total time=   0.2s\n",
            "[CV] END bag_of_words__max_df=1.0, bag_of_words__min_df=0.05, bag_of_words__ngram_range=(1, 2), estimator__alpha=0.01; total time=   0.2s\n"
          ]
        },
        {
          "output_type": "stream",
          "name": "stderr",
          "text": [
            "/usr/local/lib/python3.10/dist-packages/sklearn/feature_extraction/text.py:544: UserWarning: The parameter 'ngram_range' will not be used since 'analyzer' is callable'\n",
            "  warnings.warn(\n",
            "/usr/local/lib/python3.10/dist-packages/sklearn/feature_extraction/text.py:544: UserWarning: The parameter 'ngram_range' will not be used since 'analyzer' is callable'\n",
            "  warnings.warn(\n"
          ]
        },
        {
          "output_type": "stream",
          "name": "stdout",
          "text": [
            "[CV] END bag_of_words__max_df=1.0, bag_of_words__min_df=0.05, bag_of_words__ngram_range=(1, 2), estimator__alpha=0.01; total time=   0.2s\n",
            "[CV] END bag_of_words__max_df=1.0, bag_of_words__min_df=0.05, bag_of_words__ngram_range=(1, 2), estimator__alpha=1.0; total time=   0.2s\n"
          ]
        },
        {
          "output_type": "stream",
          "name": "stderr",
          "text": [
            "/usr/local/lib/python3.10/dist-packages/sklearn/feature_extraction/text.py:544: UserWarning: The parameter 'ngram_range' will not be used since 'analyzer' is callable'\n",
            "  warnings.warn(\n",
            "/usr/local/lib/python3.10/dist-packages/sklearn/feature_extraction/text.py:544: UserWarning: The parameter 'ngram_range' will not be used since 'analyzer' is callable'\n",
            "  warnings.warn(\n"
          ]
        },
        {
          "output_type": "stream",
          "name": "stdout",
          "text": [
            "[CV] END bag_of_words__max_df=1.0, bag_of_words__min_df=0.05, bag_of_words__ngram_range=(1, 2), estimator__alpha=1.0; total time=   0.2s\n"
          ]
        },
        {
          "output_type": "execute_result",
          "data": {
            "text/plain": [
              "GridSearchCV(cv=2,\n",
              "             estimator=Pipeline(steps=[('bag_of_words',\n",
              "                                        CountVectorizer(analyzer=<function text_process at 0x7c2a9260e7a0>)),\n",
              "                                       ('tf_idf', TfidfTransformer()),\n",
              "                                       ('estimator', MultinomialNB())]),\n",
              "             param_grid={'bag_of_words__max_df': [0.85, 1.0],\n",
              "                         'bag_of_words__min_df': [0.01, 0.05],\n",
              "                         'bag_of_words__ngram_range': [(1, 1), (1, 2)],\n",
              "                         'estimator__alpha': [0.01, 1.0]},\n",
              "             verbose=2)"
            ],
            "text/html": [
              "<style>#sk-container-id-1 {color: black;background-color: white;}#sk-container-id-1 pre{padding: 0;}#sk-container-id-1 div.sk-toggleable {background-color: white;}#sk-container-id-1 label.sk-toggleable__label {cursor: pointer;display: block;width: 100%;margin-bottom: 0;padding: 0.3em;box-sizing: border-box;text-align: center;}#sk-container-id-1 label.sk-toggleable__label-arrow:before {content: \"▸\";float: left;margin-right: 0.25em;color: #696969;}#sk-container-id-1 label.sk-toggleable__label-arrow:hover:before {color: black;}#sk-container-id-1 div.sk-estimator:hover label.sk-toggleable__label-arrow:before {color: black;}#sk-container-id-1 div.sk-toggleable__content {max-height: 0;max-width: 0;overflow: hidden;text-align: left;background-color: #f0f8ff;}#sk-container-id-1 div.sk-toggleable__content pre {margin: 0.2em;color: black;border-radius: 0.25em;background-color: #f0f8ff;}#sk-container-id-1 input.sk-toggleable__control:checked~div.sk-toggleable__content {max-height: 200px;max-width: 100%;overflow: auto;}#sk-container-id-1 input.sk-toggleable__control:checked~label.sk-toggleable__label-arrow:before {content: \"▾\";}#sk-container-id-1 div.sk-estimator input.sk-toggleable__control:checked~label.sk-toggleable__label {background-color: #d4ebff;}#sk-container-id-1 div.sk-label input.sk-toggleable__control:checked~label.sk-toggleable__label {background-color: #d4ebff;}#sk-container-id-1 input.sk-hidden--visually {border: 0;clip: rect(1px 1px 1px 1px);clip: rect(1px, 1px, 1px, 1px);height: 1px;margin: -1px;overflow: hidden;padding: 0;position: absolute;width: 1px;}#sk-container-id-1 div.sk-estimator {font-family: monospace;background-color: #f0f8ff;border: 1px dotted black;border-radius: 0.25em;box-sizing: border-box;margin-bottom: 0.5em;}#sk-container-id-1 div.sk-estimator:hover {background-color: #d4ebff;}#sk-container-id-1 div.sk-parallel-item::after {content: \"\";width: 100%;border-bottom: 1px solid gray;flex-grow: 1;}#sk-container-id-1 div.sk-label:hover label.sk-toggleable__label {background-color: #d4ebff;}#sk-container-id-1 div.sk-serial::before {content: \"\";position: absolute;border-left: 1px solid gray;box-sizing: border-box;top: 0;bottom: 0;left: 50%;z-index: 0;}#sk-container-id-1 div.sk-serial {display: flex;flex-direction: column;align-items: center;background-color: white;padding-right: 0.2em;padding-left: 0.2em;position: relative;}#sk-container-id-1 div.sk-item {position: relative;z-index: 1;}#sk-container-id-1 div.sk-parallel {display: flex;align-items: stretch;justify-content: center;background-color: white;position: relative;}#sk-container-id-1 div.sk-item::before, #sk-container-id-1 div.sk-parallel-item::before {content: \"\";position: absolute;border-left: 1px solid gray;box-sizing: border-box;top: 0;bottom: 0;left: 50%;z-index: -1;}#sk-container-id-1 div.sk-parallel-item {display: flex;flex-direction: column;z-index: 1;position: relative;background-color: white;}#sk-container-id-1 div.sk-parallel-item:first-child::after {align-self: flex-end;width: 50%;}#sk-container-id-1 div.sk-parallel-item:last-child::after {align-self: flex-start;width: 50%;}#sk-container-id-1 div.sk-parallel-item:only-child::after {width: 0;}#sk-container-id-1 div.sk-dashed-wrapped {border: 1px dashed gray;margin: 0 0.4em 0.5em 0.4em;box-sizing: border-box;padding-bottom: 0.4em;background-color: white;}#sk-container-id-1 div.sk-label label {font-family: monospace;font-weight: bold;display: inline-block;line-height: 1.2em;}#sk-container-id-1 div.sk-label-container {text-align: center;}#sk-container-id-1 div.sk-container {/* jupyter's `normalize.less` sets `[hidden] { display: none; }` but bootstrap.min.css set `[hidden] { display: none !important; }` so we also need the `!important` here to be able to override the default hidden behavior on the sphinx rendered scikit-learn.org. See: https://github.com/scikit-learn/scikit-learn/issues/21755 */display: inline-block !important;position: relative;}#sk-container-id-1 div.sk-text-repr-fallback {display: none;}</style><div id=\"sk-container-id-1\" class=\"sk-top-container\"><div class=\"sk-text-repr-fallback\"><pre>GridSearchCV(cv=2,\n",
              "             estimator=Pipeline(steps=[(&#x27;bag_of_words&#x27;,\n",
              "                                        CountVectorizer(analyzer=&lt;function text_process at 0x7c2a9260e7a0&gt;)),\n",
              "                                       (&#x27;tf_idf&#x27;, TfidfTransformer()),\n",
              "                                       (&#x27;estimator&#x27;, MultinomialNB())]),\n",
              "             param_grid={&#x27;bag_of_words__max_df&#x27;: [0.85, 1.0],\n",
              "                         &#x27;bag_of_words__min_df&#x27;: [0.01, 0.05],\n",
              "                         &#x27;bag_of_words__ngram_range&#x27;: [(1, 1), (1, 2)],\n",
              "                         &#x27;estimator__alpha&#x27;: [0.01, 1.0]},\n",
              "             verbose=2)</pre><b>In a Jupyter environment, please rerun this cell to show the HTML representation or trust the notebook. <br />On GitHub, the HTML representation is unable to render, please try loading this page with nbviewer.org.</b></div><div class=\"sk-container\" hidden><div class=\"sk-item sk-dashed-wrapped\"><div class=\"sk-label-container\"><div class=\"sk-label sk-toggleable\"><input class=\"sk-toggleable__control sk-hidden--visually\" id=\"sk-estimator-id-1\" type=\"checkbox\" ><label for=\"sk-estimator-id-1\" class=\"sk-toggleable__label sk-toggleable__label-arrow\">GridSearchCV</label><div class=\"sk-toggleable__content\"><pre>GridSearchCV(cv=2,\n",
              "             estimator=Pipeline(steps=[(&#x27;bag_of_words&#x27;,\n",
              "                                        CountVectorizer(analyzer=&lt;function text_process at 0x7c2a9260e7a0&gt;)),\n",
              "                                       (&#x27;tf_idf&#x27;, TfidfTransformer()),\n",
              "                                       (&#x27;estimator&#x27;, MultinomialNB())]),\n",
              "             param_grid={&#x27;bag_of_words__max_df&#x27;: [0.85, 1.0],\n",
              "                         &#x27;bag_of_words__min_df&#x27;: [0.01, 0.05],\n",
              "                         &#x27;bag_of_words__ngram_range&#x27;: [(1, 1), (1, 2)],\n",
              "                         &#x27;estimator__alpha&#x27;: [0.01, 1.0]},\n",
              "             verbose=2)</pre></div></div></div><div class=\"sk-parallel\"><div class=\"sk-parallel-item\"><div class=\"sk-item\"><div class=\"sk-label-container\"><div class=\"sk-label sk-toggleable\"><input class=\"sk-toggleable__control sk-hidden--visually\" id=\"sk-estimator-id-2\" type=\"checkbox\" ><label for=\"sk-estimator-id-2\" class=\"sk-toggleable__label sk-toggleable__label-arrow\">estimator: Pipeline</label><div class=\"sk-toggleable__content\"><pre>Pipeline(steps=[(&#x27;bag_of_words&#x27;,\n",
              "                 CountVectorizer(analyzer=&lt;function text_process at 0x7c2a9260e7a0&gt;)),\n",
              "                (&#x27;tf_idf&#x27;, TfidfTransformer()),\n",
              "                (&#x27;estimator&#x27;, MultinomialNB())])</pre></div></div></div><div class=\"sk-serial\"><div class=\"sk-item\"><div class=\"sk-serial\"><div class=\"sk-item\"><div class=\"sk-estimator sk-toggleable\"><input class=\"sk-toggleable__control sk-hidden--visually\" id=\"sk-estimator-id-3\" type=\"checkbox\" ><label for=\"sk-estimator-id-3\" class=\"sk-toggleable__label sk-toggleable__label-arrow\">CountVectorizer</label><div class=\"sk-toggleable__content\"><pre>CountVectorizer(analyzer=&lt;function text_process at 0x7c2a9260e7a0&gt;)</pre></div></div></div><div class=\"sk-item\"><div class=\"sk-estimator sk-toggleable\"><input class=\"sk-toggleable__control sk-hidden--visually\" id=\"sk-estimator-id-4\" type=\"checkbox\" ><label for=\"sk-estimator-id-4\" class=\"sk-toggleable__label sk-toggleable__label-arrow\">TfidfTransformer</label><div class=\"sk-toggleable__content\"><pre>TfidfTransformer()</pre></div></div></div><div class=\"sk-item\"><div class=\"sk-estimator sk-toggleable\"><input class=\"sk-toggleable__control sk-hidden--visually\" id=\"sk-estimator-id-5\" type=\"checkbox\" ><label for=\"sk-estimator-id-5\" class=\"sk-toggleable__label sk-toggleable__label-arrow\">MultinomialNB</label><div class=\"sk-toggleable__content\"><pre>MultinomialNB()</pre></div></div></div></div></div></div></div></div></div></div></div></div>"
            ]
          },
          "metadata": {},
          "execution_count": 11
        }
      ]
    },
    {
      "cell_type": "markdown",
      "source": [
        "Best parameters found"
      ],
      "metadata": {
        "id": "rA5V_-3sR77p"
      }
    },
    {
      "cell_type": "code",
      "source": [
        "rf_grid.best_params_"
      ],
      "metadata": {
        "colab": {
          "base_uri": "https://localhost:8080/"
        },
        "id": "4aBL0yTLR8oc",
        "outputId": "a5d2fbe3-210f-49bd-de70-3931afa0cda8"
      },
      "execution_count": 12,
      "outputs": [
        {
          "output_type": "execute_result",
          "data": {
            "text/plain": [
              "{'bag_of_words__max_df': 0.85,\n",
              " 'bag_of_words__min_df': 0.01,\n",
              " 'bag_of_words__ngram_range': (1, 1),\n",
              " 'estimator__criterion': 'gini',\n",
              " 'estimator__n_estimators': 100}"
            ]
          },
          "metadata": {},
          "execution_count": 12
        }
      ]
    },
    {
      "cell_type": "code",
      "source": [
        "nb_grid.best_params_"
      ],
      "metadata": {
        "colab": {
          "base_uri": "https://localhost:8080/"
        },
        "id": "pg4NuTyASAM-",
        "outputId": "7dc14c17-7ba1-4464-b0ed-dde7db879a06"
      },
      "execution_count": 13,
      "outputs": [
        {
          "output_type": "execute_result",
          "data": {
            "text/plain": [
              "{'bag_of_words__max_df': 0.85,\n",
              " 'bag_of_words__min_df': 0.01,\n",
              " 'bag_of_words__ngram_range': (1, 1),\n",
              " 'estimator__alpha': 1.0}"
            ]
          },
          "metadata": {},
          "execution_count": 13
        }
      ]
    },
    {
      "cell_type": "markdown",
      "source": [
        "Predicting using the test set"
      ],
      "metadata": {
        "id": "4RgDm_ntSDhU"
      }
    },
    {
      "cell_type": "code",
      "source": [
        "rf_y_pred = rf_grid.predict(X_test)\n",
        "nb_y_pred = nb_grid.predict(X_test)"
      ],
      "metadata": {
        "id": "yiGe9uHLSD80"
      },
      "execution_count": 14,
      "outputs": []
    },
    {
      "cell_type": "markdown",
      "source": [
        "Evaluating"
      ],
      "metadata": {
        "id": "IgZiWf6SSH_c"
      }
    },
    {
      "cell_type": "code",
      "source": [
        "from sklearn import metrics\n",
        "tn, fp, fn, tp = metrics.confusion_matrix(y_test, rf_y_pred).ravel()\n",
        "print('Confusion matrix:\\n', metrics.confusion_matrix(y_test, rf_y_pred))\n",
        "print('Accuracy:', metrics.accuracy_score(y_test, rf_y_pred))\n",
        "print('Precision:', metrics.precision_score(y_test, rf_y_pred))\n",
        "print('Recall:', metrics.recall_score(y_test, rf_y_pred))\n",
        "print('F1-Score:', metrics.f1_score(y_test, rf_y_pred))\n",
        "print(metrics.classification_report(y_test, rf_y_pred)) # Better for multiclass problem"
      ],
      "metadata": {
        "colab": {
          "base_uri": "https://localhost:8080/"
        },
        "id": "FCdv4UGESK83",
        "outputId": "887eaa87-41fe-493c-81f2-30e2d847ac1e"
      },
      "execution_count": 15,
      "outputs": [
        {
          "output_type": "stream",
          "name": "stdout",
          "text": [
            "Confusion matrix:\n",
            " [[103  15]\n",
            " [ 52  80]]\n",
            "Accuracy: 0.732\n",
            "Precision: 0.8421052631578947\n",
            "Recall: 0.6060606060606061\n",
            "F1-Score: 0.7048458149779736\n",
            "              precision    recall  f1-score   support\n",
            "\n",
            "           0       0.66      0.87      0.75       118\n",
            "           1       0.84      0.61      0.70       132\n",
            "\n",
            "    accuracy                           0.73       250\n",
            "   macro avg       0.75      0.74      0.73       250\n",
            "weighted avg       0.76      0.73      0.73       250\n",
            "\n"
          ]
        }
      ]
    },
    {
      "cell_type": "code",
      "source": [
        "from sklearn import metrics\n",
        "tn, fp, fn, tp = metrics.confusion_matrix(y_test, nb_y_pred).ravel()\n",
        "print('Confusion matrix:\\n', metrics.confusion_matrix(y_test, nb_y_pred))\n",
        "print('Accuracy:', metrics.accuracy_score(y_test, nb_y_pred))\n",
        "print('Precision:', metrics.precision_score(y_test, nb_y_pred))\n",
        "print('Recall:', metrics.recall_score(y_test, nb_y_pred))\n",
        "print('F1-Score:', metrics.f1_score(y_test, nb_y_pred))\n",
        "print(metrics.classification_report(y_test, nb_y_pred)) # Better for multiclass problem"
      ],
      "metadata": {
        "colab": {
          "base_uri": "https://localhost:8080/"
        },
        "id": "Ed7EWl2FSUOM",
        "outputId": "45860493-5336-4e84-84dc-1c8a2174470a"
      },
      "execution_count": 16,
      "outputs": [
        {
          "output_type": "stream",
          "name": "stdout",
          "text": [
            "Confusion matrix:\n",
            " [[103  15]\n",
            " [ 51  81]]\n",
            "Accuracy: 0.736\n",
            "Precision: 0.84375\n",
            "Recall: 0.6136363636363636\n",
            "F1-Score: 0.7105263157894737\n",
            "              precision    recall  f1-score   support\n",
            "\n",
            "           0       0.67      0.87      0.76       118\n",
            "           1       0.84      0.61      0.71       132\n",
            "\n",
            "    accuracy                           0.74       250\n",
            "   macro avg       0.76      0.74      0.73       250\n",
            "weighted avg       0.76      0.74      0.73       250\n",
            "\n"
          ]
        }
      ]
    },
    {
      "cell_type": "markdown",
      "source": [
        "Getting attributes (if using Random Forest)"
      ],
      "metadata": {
        "id": "ply0O58dSWSk"
      }
    },
    {
      "cell_type": "code",
      "source": [
        "rf_grid.best_params_"
      ],
      "metadata": {
        "colab": {
          "base_uri": "https://localhost:8080/"
        },
        "id": "OeZqhbRpSXkM",
        "outputId": "30cb82fa-9361-422c-879a-630aa248ee26"
      },
      "execution_count": 17,
      "outputs": [
        {
          "output_type": "execute_result",
          "data": {
            "text/plain": [
              "{'bag_of_words__max_df': 0.85,\n",
              " 'bag_of_words__min_df': 0.01,\n",
              " 'bag_of_words__ngram_range': (1, 1),\n",
              " 'estimator__criterion': 'gini',\n",
              " 'estimator__n_estimators': 100}"
            ]
          },
          "metadata": {},
          "execution_count": 17
        }
      ]
    },
    {
      "cell_type": "code",
      "source": [
        "rf_pipe = Pipeline([\n",
        "    ('bag_of_words', CountVectorizer(analyzer=text_process, max_df=1.0, min_df=0.01, ngram_range=(1,1))),\n",
        "    ('tf_idf', TfidfTransformer()),\n",
        "    ('estimator', RandomForestClassifier(n_estimators=300, criterion='gini'))\n",
        "])\n",
        "\n",
        "rf_pipe.fit(X_train, y_train)"
      ],
      "metadata": {
        "colab": {
          "base_uri": "https://localhost:8080/",
          "height": 278
        },
        "id": "NFWk8FL4SatE",
        "outputId": "a65c380d-f4cc-49bb-95ee-aadfab839e40"
      },
      "execution_count": 20,
      "outputs": [
        {
          "output_type": "execute_result",
          "data": {
            "text/plain": [
              "Pipeline(steps=[('bag_of_words',\n",
              "                 CountVectorizer(analyzer=<function text_process at 0x7c2a9260e7a0>,\n",
              "                                 min_df=0.01)),\n",
              "                ('tf_idf', TfidfTransformer()),\n",
              "                ('estimator', RandomForestClassifier(n_estimators=300))])"
            ],
            "text/html": [
              "<style>#sk-container-id-3 {color: black;background-color: white;}#sk-container-id-3 pre{padding: 0;}#sk-container-id-3 div.sk-toggleable {background-color: white;}#sk-container-id-3 label.sk-toggleable__label {cursor: pointer;display: block;width: 100%;margin-bottom: 0;padding: 0.3em;box-sizing: border-box;text-align: center;}#sk-container-id-3 label.sk-toggleable__label-arrow:before {content: \"▸\";float: left;margin-right: 0.25em;color: #696969;}#sk-container-id-3 label.sk-toggleable__label-arrow:hover:before {color: black;}#sk-container-id-3 div.sk-estimator:hover label.sk-toggleable__label-arrow:before {color: black;}#sk-container-id-3 div.sk-toggleable__content {max-height: 0;max-width: 0;overflow: hidden;text-align: left;background-color: #f0f8ff;}#sk-container-id-3 div.sk-toggleable__content pre {margin: 0.2em;color: black;border-radius: 0.25em;background-color: #f0f8ff;}#sk-container-id-3 input.sk-toggleable__control:checked~div.sk-toggleable__content {max-height: 200px;max-width: 100%;overflow: auto;}#sk-container-id-3 input.sk-toggleable__control:checked~label.sk-toggleable__label-arrow:before {content: \"▾\";}#sk-container-id-3 div.sk-estimator input.sk-toggleable__control:checked~label.sk-toggleable__label {background-color: #d4ebff;}#sk-container-id-3 div.sk-label input.sk-toggleable__control:checked~label.sk-toggleable__label {background-color: #d4ebff;}#sk-container-id-3 input.sk-hidden--visually {border: 0;clip: rect(1px 1px 1px 1px);clip: rect(1px, 1px, 1px, 1px);height: 1px;margin: -1px;overflow: hidden;padding: 0;position: absolute;width: 1px;}#sk-container-id-3 div.sk-estimator {font-family: monospace;background-color: #f0f8ff;border: 1px dotted black;border-radius: 0.25em;box-sizing: border-box;margin-bottom: 0.5em;}#sk-container-id-3 div.sk-estimator:hover {background-color: #d4ebff;}#sk-container-id-3 div.sk-parallel-item::after {content: \"\";width: 100%;border-bottom: 1px solid gray;flex-grow: 1;}#sk-container-id-3 div.sk-label:hover label.sk-toggleable__label {background-color: #d4ebff;}#sk-container-id-3 div.sk-serial::before {content: \"\";position: absolute;border-left: 1px solid gray;box-sizing: border-box;top: 0;bottom: 0;left: 50%;z-index: 0;}#sk-container-id-3 div.sk-serial {display: flex;flex-direction: column;align-items: center;background-color: white;padding-right: 0.2em;padding-left: 0.2em;position: relative;}#sk-container-id-3 div.sk-item {position: relative;z-index: 1;}#sk-container-id-3 div.sk-parallel {display: flex;align-items: stretch;justify-content: center;background-color: white;position: relative;}#sk-container-id-3 div.sk-item::before, #sk-container-id-3 div.sk-parallel-item::before {content: \"\";position: absolute;border-left: 1px solid gray;box-sizing: border-box;top: 0;bottom: 0;left: 50%;z-index: -1;}#sk-container-id-3 div.sk-parallel-item {display: flex;flex-direction: column;z-index: 1;position: relative;background-color: white;}#sk-container-id-3 div.sk-parallel-item:first-child::after {align-self: flex-end;width: 50%;}#sk-container-id-3 div.sk-parallel-item:last-child::after {align-self: flex-start;width: 50%;}#sk-container-id-3 div.sk-parallel-item:only-child::after {width: 0;}#sk-container-id-3 div.sk-dashed-wrapped {border: 1px dashed gray;margin: 0 0.4em 0.5em 0.4em;box-sizing: border-box;padding-bottom: 0.4em;background-color: white;}#sk-container-id-3 div.sk-label label {font-family: monospace;font-weight: bold;display: inline-block;line-height: 1.2em;}#sk-container-id-3 div.sk-label-container {text-align: center;}#sk-container-id-3 div.sk-container {/* jupyter's `normalize.less` sets `[hidden] { display: none; }` but bootstrap.min.css set `[hidden] { display: none !important; }` so we also need the `!important` here to be able to override the default hidden behavior on the sphinx rendered scikit-learn.org. See: https://github.com/scikit-learn/scikit-learn/issues/21755 */display: inline-block !important;position: relative;}#sk-container-id-3 div.sk-text-repr-fallback {display: none;}</style><div id=\"sk-container-id-3\" class=\"sk-top-container\"><div class=\"sk-text-repr-fallback\"><pre>Pipeline(steps=[(&#x27;bag_of_words&#x27;,\n",
              "                 CountVectorizer(analyzer=&lt;function text_process at 0x7c2a9260e7a0&gt;,\n",
              "                                 min_df=0.01)),\n",
              "                (&#x27;tf_idf&#x27;, TfidfTransformer()),\n",
              "                (&#x27;estimator&#x27;, RandomForestClassifier(n_estimators=300))])</pre><b>In a Jupyter environment, please rerun this cell to show the HTML representation or trust the notebook. <br />On GitHub, the HTML representation is unable to render, please try loading this page with nbviewer.org.</b></div><div class=\"sk-container\" hidden><div class=\"sk-item sk-dashed-wrapped\"><div class=\"sk-label-container\"><div class=\"sk-label sk-toggleable\"><input class=\"sk-toggleable__control sk-hidden--visually\" id=\"sk-estimator-id-10\" type=\"checkbox\" ><label for=\"sk-estimator-id-10\" class=\"sk-toggleable__label sk-toggleable__label-arrow\">Pipeline</label><div class=\"sk-toggleable__content\"><pre>Pipeline(steps=[(&#x27;bag_of_words&#x27;,\n",
              "                 CountVectorizer(analyzer=&lt;function text_process at 0x7c2a9260e7a0&gt;,\n",
              "                                 min_df=0.01)),\n",
              "                (&#x27;tf_idf&#x27;, TfidfTransformer()),\n",
              "                (&#x27;estimator&#x27;, RandomForestClassifier(n_estimators=300))])</pre></div></div></div><div class=\"sk-serial\"><div class=\"sk-item\"><div class=\"sk-estimator sk-toggleable\"><input class=\"sk-toggleable__control sk-hidden--visually\" id=\"sk-estimator-id-11\" type=\"checkbox\" ><label for=\"sk-estimator-id-11\" class=\"sk-toggleable__label sk-toggleable__label-arrow\">CountVectorizer</label><div class=\"sk-toggleable__content\"><pre>CountVectorizer(analyzer=&lt;function text_process at 0x7c2a9260e7a0&gt;, min_df=0.01)</pre></div></div></div><div class=\"sk-item\"><div class=\"sk-estimator sk-toggleable\"><input class=\"sk-toggleable__control sk-hidden--visually\" id=\"sk-estimator-id-12\" type=\"checkbox\" ><label for=\"sk-estimator-id-12\" class=\"sk-toggleable__label sk-toggleable__label-arrow\">TfidfTransformer</label><div class=\"sk-toggleable__content\"><pre>TfidfTransformer()</pre></div></div></div><div class=\"sk-item\"><div class=\"sk-estimator sk-toggleable\"><input class=\"sk-toggleable__control sk-hidden--visually\" id=\"sk-estimator-id-13\" type=\"checkbox\" ><label for=\"sk-estimator-id-13\" class=\"sk-toggleable__label sk-toggleable__label-arrow\">RandomForestClassifier</label><div class=\"sk-toggleable__content\"><pre>RandomForestClassifier(n_estimators=300)</pre></div></div></div></div></div></div></div>"
            ]
          },
          "metadata": {},
          "execution_count": 20
        }
      ]
    },
    {
      "cell_type": "code",
      "source": [
        "feature_importance = pd.DataFrame(rf_pipe.steps[2][1].feature_importances_,\n",
        "                                  rf_pipe.steps[0][1].get_feature_names_out(),\n",
        "                                  columns=['importance'])\n",
        "feature_importance.sort_values('importance', ascending=False).head(20)"
      ],
      "metadata": {
        "colab": {
          "base_uri": "https://localhost:8080/",
          "height": 677
        },
        "id": "YUKyoSH7Sgn0",
        "outputId": "20e3bc69-8679-4ea2-fc45-497ad00b4072"
      },
      "execution_count": 23,
      "outputs": [
        {
          "output_type": "execute_result",
          "data": {
            "text/plain": [
              "            importance\n",
              "not           0.075268\n",
              "great         0.073190\n",
              "good          0.057067\n",
              "love          0.032349\n",
              "delici        0.030212\n",
              "amaz          0.026094\n",
              "friendli      0.021998\n",
              "food          0.018385\n",
              "place         0.018384\n",
              "fantast       0.018215\n",
              "disappoint    0.018021\n",
              "best          0.017465\n",
              "like          0.016419\n",
              "also          0.016246\n",
              "awesom        0.016210\n",
              "go            0.015919\n",
              "servic        0.015648\n",
              "nice          0.015230\n",
              "time          0.014062\n",
              "back          0.012596"
            ],
            "text/html": [
              "\n",
              "  <div id=\"df-2530765a-c6cf-455c-b939-72e936107e63\" class=\"colab-df-container\">\n",
              "    <div>\n",
              "<style scoped>\n",
              "    .dataframe tbody tr th:only-of-type {\n",
              "        vertical-align: middle;\n",
              "    }\n",
              "\n",
              "    .dataframe tbody tr th {\n",
              "        vertical-align: top;\n",
              "    }\n",
              "\n",
              "    .dataframe thead th {\n",
              "        text-align: right;\n",
              "    }\n",
              "</style>\n",
              "<table border=\"1\" class=\"dataframe\">\n",
              "  <thead>\n",
              "    <tr style=\"text-align: right;\">\n",
              "      <th></th>\n",
              "      <th>importance</th>\n",
              "    </tr>\n",
              "  </thead>\n",
              "  <tbody>\n",
              "    <tr>\n",
              "      <th>not</th>\n",
              "      <td>0.075268</td>\n",
              "    </tr>\n",
              "    <tr>\n",
              "      <th>great</th>\n",
              "      <td>0.073190</td>\n",
              "    </tr>\n",
              "    <tr>\n",
              "      <th>good</th>\n",
              "      <td>0.057067</td>\n",
              "    </tr>\n",
              "    <tr>\n",
              "      <th>love</th>\n",
              "      <td>0.032349</td>\n",
              "    </tr>\n",
              "    <tr>\n",
              "      <th>delici</th>\n",
              "      <td>0.030212</td>\n",
              "    </tr>\n",
              "    <tr>\n",
              "      <th>amaz</th>\n",
              "      <td>0.026094</td>\n",
              "    </tr>\n",
              "    <tr>\n",
              "      <th>friendli</th>\n",
              "      <td>0.021998</td>\n",
              "    </tr>\n",
              "    <tr>\n",
              "      <th>food</th>\n",
              "      <td>0.018385</td>\n",
              "    </tr>\n",
              "    <tr>\n",
              "      <th>place</th>\n",
              "      <td>0.018384</td>\n",
              "    </tr>\n",
              "    <tr>\n",
              "      <th>fantast</th>\n",
              "      <td>0.018215</td>\n",
              "    </tr>\n",
              "    <tr>\n",
              "      <th>disappoint</th>\n",
              "      <td>0.018021</td>\n",
              "    </tr>\n",
              "    <tr>\n",
              "      <th>best</th>\n",
              "      <td>0.017465</td>\n",
              "    </tr>\n",
              "    <tr>\n",
              "      <th>like</th>\n",
              "      <td>0.016419</td>\n",
              "    </tr>\n",
              "    <tr>\n",
              "      <th>also</th>\n",
              "      <td>0.016246</td>\n",
              "    </tr>\n",
              "    <tr>\n",
              "      <th>awesom</th>\n",
              "      <td>0.016210</td>\n",
              "    </tr>\n",
              "    <tr>\n",
              "      <th>go</th>\n",
              "      <td>0.015919</td>\n",
              "    </tr>\n",
              "    <tr>\n",
              "      <th>servic</th>\n",
              "      <td>0.015648</td>\n",
              "    </tr>\n",
              "    <tr>\n",
              "      <th>nice</th>\n",
              "      <td>0.015230</td>\n",
              "    </tr>\n",
              "    <tr>\n",
              "      <th>time</th>\n",
              "      <td>0.014062</td>\n",
              "    </tr>\n",
              "    <tr>\n",
              "      <th>back</th>\n",
              "      <td>0.012596</td>\n",
              "    </tr>\n",
              "  </tbody>\n",
              "</table>\n",
              "</div>\n",
              "    <div class=\"colab-df-buttons\">\n",
              "\n",
              "  <div class=\"colab-df-container\">\n",
              "    <button class=\"colab-df-convert\" onclick=\"convertToInteractive('df-2530765a-c6cf-455c-b939-72e936107e63')\"\n",
              "            title=\"Convert this dataframe to an interactive table.\"\n",
              "            style=\"display:none;\">\n",
              "\n",
              "  <svg xmlns=\"http://www.w3.org/2000/svg\" height=\"24px\" viewBox=\"0 -960 960 960\">\n",
              "    <path d=\"M120-120v-720h720v720H120Zm60-500h600v-160H180v160Zm220 220h160v-160H400v160Zm0 220h160v-160H400v160ZM180-400h160v-160H180v160Zm440 0h160v-160H620v160ZM180-180h160v-160H180v160Zm440 0h160v-160H620v160Z\"/>\n",
              "  </svg>\n",
              "    </button>\n",
              "\n",
              "  <style>\n",
              "    .colab-df-container {\n",
              "      display:flex;\n",
              "      gap: 12px;\n",
              "    }\n",
              "\n",
              "    .colab-df-convert {\n",
              "      background-color: #E8F0FE;\n",
              "      border: none;\n",
              "      border-radius: 50%;\n",
              "      cursor: pointer;\n",
              "      display: none;\n",
              "      fill: #1967D2;\n",
              "      height: 32px;\n",
              "      padding: 0 0 0 0;\n",
              "      width: 32px;\n",
              "    }\n",
              "\n",
              "    .colab-df-convert:hover {\n",
              "      background-color: #E2EBFA;\n",
              "      box-shadow: 0px 1px 2px rgba(60, 64, 67, 0.3), 0px 1px 3px 1px rgba(60, 64, 67, 0.15);\n",
              "      fill: #174EA6;\n",
              "    }\n",
              "\n",
              "    .colab-df-buttons div {\n",
              "      margin-bottom: 4px;\n",
              "    }\n",
              "\n",
              "    [theme=dark] .colab-df-convert {\n",
              "      background-color: #3B4455;\n",
              "      fill: #D2E3FC;\n",
              "    }\n",
              "\n",
              "    [theme=dark] .colab-df-convert:hover {\n",
              "      background-color: #434B5C;\n",
              "      box-shadow: 0px 1px 3px 1px rgba(0, 0, 0, 0.15);\n",
              "      filter: drop-shadow(0px 1px 2px rgba(0, 0, 0, 0.3));\n",
              "      fill: #FFFFFF;\n",
              "    }\n",
              "  </style>\n",
              "\n",
              "    <script>\n",
              "      const buttonEl =\n",
              "        document.querySelector('#df-2530765a-c6cf-455c-b939-72e936107e63 button.colab-df-convert');\n",
              "      buttonEl.style.display =\n",
              "        google.colab.kernel.accessAllowed ? 'block' : 'none';\n",
              "\n",
              "      async function convertToInteractive(key) {\n",
              "        const element = document.querySelector('#df-2530765a-c6cf-455c-b939-72e936107e63');\n",
              "        const dataTable =\n",
              "          await google.colab.kernel.invokeFunction('convertToInteractive',\n",
              "                                                    [key], {});\n",
              "        if (!dataTable) return;\n",
              "\n",
              "        const docLinkHtml = 'Like what you see? Visit the ' +\n",
              "          '<a target=\"_blank\" href=https://colab.research.google.com/notebooks/data_table.ipynb>data table notebook</a>'\n",
              "          + ' to learn more about interactive tables.';\n",
              "        element.innerHTML = '';\n",
              "        dataTable['output_type'] = 'display_data';\n",
              "        await google.colab.output.renderOutput(dataTable, element);\n",
              "        const docLink = document.createElement('div');\n",
              "        docLink.innerHTML = docLinkHtml;\n",
              "        element.appendChild(docLink);\n",
              "      }\n",
              "    </script>\n",
              "  </div>\n",
              "\n",
              "\n",
              "<div id=\"df-8e51a06e-da9b-44dc-a628-e91a4859b41f\">\n",
              "  <button class=\"colab-df-quickchart\" onclick=\"quickchart('df-8e51a06e-da9b-44dc-a628-e91a4859b41f')\"\n",
              "            title=\"Suggest charts\"\n",
              "            style=\"display:none;\">\n",
              "\n",
              "<svg xmlns=\"http://www.w3.org/2000/svg\" height=\"24px\"viewBox=\"0 0 24 24\"\n",
              "     width=\"24px\">\n",
              "    <g>\n",
              "        <path d=\"M19 3H5c-1.1 0-2 .9-2 2v14c0 1.1.9 2 2 2h14c1.1 0 2-.9 2-2V5c0-1.1-.9-2-2-2zM9 17H7v-7h2v7zm4 0h-2V7h2v10zm4 0h-2v-4h2v4z\"/>\n",
              "    </g>\n",
              "</svg>\n",
              "  </button>\n",
              "\n",
              "<style>\n",
              "  .colab-df-quickchart {\n",
              "      --bg-color: #E8F0FE;\n",
              "      --fill-color: #1967D2;\n",
              "      --hover-bg-color: #E2EBFA;\n",
              "      --hover-fill-color: #174EA6;\n",
              "      --disabled-fill-color: #AAA;\n",
              "      --disabled-bg-color: #DDD;\n",
              "  }\n",
              "\n",
              "  [theme=dark] .colab-df-quickchart {\n",
              "      --bg-color: #3B4455;\n",
              "      --fill-color: #D2E3FC;\n",
              "      --hover-bg-color: #434B5C;\n",
              "      --hover-fill-color: #FFFFFF;\n",
              "      --disabled-bg-color: #3B4455;\n",
              "      --disabled-fill-color: #666;\n",
              "  }\n",
              "\n",
              "  .colab-df-quickchart {\n",
              "    background-color: var(--bg-color);\n",
              "    border: none;\n",
              "    border-radius: 50%;\n",
              "    cursor: pointer;\n",
              "    display: none;\n",
              "    fill: var(--fill-color);\n",
              "    height: 32px;\n",
              "    padding: 0;\n",
              "    width: 32px;\n",
              "  }\n",
              "\n",
              "  .colab-df-quickchart:hover {\n",
              "    background-color: var(--hover-bg-color);\n",
              "    box-shadow: 0 1px 2px rgba(60, 64, 67, 0.3), 0 1px 3px 1px rgba(60, 64, 67, 0.15);\n",
              "    fill: var(--button-hover-fill-color);\n",
              "  }\n",
              "\n",
              "  .colab-df-quickchart-complete:disabled,\n",
              "  .colab-df-quickchart-complete:disabled:hover {\n",
              "    background-color: var(--disabled-bg-color);\n",
              "    fill: var(--disabled-fill-color);\n",
              "    box-shadow: none;\n",
              "  }\n",
              "\n",
              "  .colab-df-spinner {\n",
              "    border: 2px solid var(--fill-color);\n",
              "    border-color: transparent;\n",
              "    border-bottom-color: var(--fill-color);\n",
              "    animation:\n",
              "      spin 1s steps(1) infinite;\n",
              "  }\n",
              "\n",
              "  @keyframes spin {\n",
              "    0% {\n",
              "      border-color: transparent;\n",
              "      border-bottom-color: var(--fill-color);\n",
              "      border-left-color: var(--fill-color);\n",
              "    }\n",
              "    20% {\n",
              "      border-color: transparent;\n",
              "      border-left-color: var(--fill-color);\n",
              "      border-top-color: var(--fill-color);\n",
              "    }\n",
              "    30% {\n",
              "      border-color: transparent;\n",
              "      border-left-color: var(--fill-color);\n",
              "      border-top-color: var(--fill-color);\n",
              "      border-right-color: var(--fill-color);\n",
              "    }\n",
              "    40% {\n",
              "      border-color: transparent;\n",
              "      border-right-color: var(--fill-color);\n",
              "      border-top-color: var(--fill-color);\n",
              "    }\n",
              "    60% {\n",
              "      border-color: transparent;\n",
              "      border-right-color: var(--fill-color);\n",
              "    }\n",
              "    80% {\n",
              "      border-color: transparent;\n",
              "      border-right-color: var(--fill-color);\n",
              "      border-bottom-color: var(--fill-color);\n",
              "    }\n",
              "    90% {\n",
              "      border-color: transparent;\n",
              "      border-bottom-color: var(--fill-color);\n",
              "    }\n",
              "  }\n",
              "</style>\n",
              "\n",
              "  <script>\n",
              "    async function quickchart(key) {\n",
              "      const quickchartButtonEl =\n",
              "        document.querySelector('#' + key + ' button');\n",
              "      quickchartButtonEl.disabled = true;  // To prevent multiple clicks.\n",
              "      quickchartButtonEl.classList.add('colab-df-spinner');\n",
              "      try {\n",
              "        const charts = await google.colab.kernel.invokeFunction(\n",
              "            'suggestCharts', [key], {});\n",
              "      } catch (error) {\n",
              "        console.error('Error during call to suggestCharts:', error);\n",
              "      }\n",
              "      quickchartButtonEl.classList.remove('colab-df-spinner');\n",
              "      quickchartButtonEl.classList.add('colab-df-quickchart-complete');\n",
              "    }\n",
              "    (() => {\n",
              "      let quickchartButtonEl =\n",
              "        document.querySelector('#df-8e51a06e-da9b-44dc-a628-e91a4859b41f button');\n",
              "      quickchartButtonEl.style.display =\n",
              "        google.colab.kernel.accessAllowed ? 'block' : 'none';\n",
              "    })();\n",
              "  </script>\n",
              "</div>\n",
              "    </div>\n",
              "  </div>\n"
            ]
          },
          "metadata": {},
          "execution_count": 23
        }
      ]
    }
  ]
}